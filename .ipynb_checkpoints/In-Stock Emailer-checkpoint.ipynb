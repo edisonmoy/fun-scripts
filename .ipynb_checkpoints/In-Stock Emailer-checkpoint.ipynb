{
 "cells": [
  {
   "cell_type": "markdown",
   "metadata": {},
   "source": [
    "### In Stock Email Notifier\n",
    "\n",
    "I got tired of frequently checking a website to see if the item was back in stock so I wrote a script that periodically emails me the status of the item's supply."
   ]
  },
  {
   "cell_type": "code",
   "execution_count": 1,
   "metadata": {},
   "outputs": [],
   "source": [
    "from lxml import html\n",
    "import requests\n",
    "\n",
    "#Get information from webpage by reading the text from the correct div\n",
    "def check_webpages():\n",
    "    pageV1 = requests.get('https://hobbyking.com/en_us/quanum-diy-fpv-goggle-set-with-monitor-kit.html')\n",
    "    treeV1 = html.fromstring(pageV1.content)\n",
    "\n",
    "    pageV2 = requests.get('https://hobbyking.com/en_us/quanum-diy-fpv-goggle-v2-pro.html')\n",
    "    treeV2 = html.fromstring(pageV2.content)\n",
    "\n",
    "    inStockV1 = treeV1.xpath('//span[@class=\"in-stock\"]/text()')\n",
    "    inStockV2 = treeV2.xpath('//span[@class=\"in-stock\"]/text()')\n",
    "    return inStockV1, inStockV2"
   ]
  },
  {
   "cell_type": "code",
   "execution_count": 2,
   "metadata": {},
   "outputs": [],
   "source": [
    "#Creates message based on item stock status\n",
    "def stock_message():\n",
    "    stockV1, stockV2 = check_webpages()\n",
    "    msg = \"Supply Status: \\n\"\n",
    "    if len(stockV1) > 0:\n",
    "        msg = msg + \"Quanum Headset V1 in Stock! \\n Buy here: https://hobbyking.com/en_us/quanum-diy-fpv-goggle-set-with-monitor-kit.html\"\n",
    "    if len(stockV2) > 0:\n",
    "        msg = msg + \"\\n Quanum Headset V2 in Stock! \\n Buy here: https://hobbyking.com/en_us/quanum-diy-fpv-goggle-v2-pro.html\"\n",
    "    if len(stockV2) == 0 and len(stockV1) == 0:\n",
    "        msg = msg + \"None in stock. Check back later.\"\n",
    "    return msg"
   ]
  },
  {
   "cell_type": "code",
   "execution_count": 3,
   "metadata": {},
   "outputs": [],
   "source": [
    "import ssl\n",
    "\n",
    "#Setup Email\n",
    "port = 465  # For SSL\n",
    "password = [REDACTED]\n",
    "sender_email = \"testcode900@gmail.com\"\n",
    "receiver_email = \"testcode900@gmail.com\"\n",
    "# Create a secure SSL context\n",
    "context = ssl.create_default_context()\n",
    "    "
   ]
  },
  {
   "cell_type": "code",
   "execution_count": 4,
   "metadata": {},
   "outputs": [],
   "source": [
    "import smtplib\n",
    "\n",
    "def send_msg():\n",
    "    message = stock_message()\n",
    "    #Send message\n",
    "    with smtplib.SMTP_SSL(\"smtp.gmail.com\", port, context=context) as server:\n",
    "        server.login(\"testcode900@gmail.com\", password)\n",
    "        server.sendmail(sender_email, receiver_email, message)"
   ]
  },
  {
   "cell_type": "code",
   "execution_count": null,
   "metadata": {},
   "outputs": [],
   "source": [
    "from apscheduler.schedulers.blocking import BlockingScheduler\n",
    "\n",
    "#Create scheduler and activate!\n",
    "scheduler = BlockingScheduler()\n",
    "scheduler.add_job(send_msg, 'interval', hours=6)\n",
    "scheduler.start()"
   ]
  },
  {
   "cell_type": "code",
   "execution_count": null,
   "metadata": {},
   "outputs": [],
   "source": []
  }
 ],
 "metadata": {
  "kernelspec": {
   "display_name": "Python 3",
   "language": "python",
   "name": "python3"
  },
  "language_info": {
   "codemirror_mode": {
    "name": "ipython",
    "version": 3
   },
   "file_extension": ".py",
   "mimetype": "text/x-python",
   "name": "python",
   "nbconvert_exporter": "python",
   "pygments_lexer": "ipython3",
   "version": "3.6.8"
  }
 },
 "nbformat": 4,
 "nbformat_minor": 2
}
